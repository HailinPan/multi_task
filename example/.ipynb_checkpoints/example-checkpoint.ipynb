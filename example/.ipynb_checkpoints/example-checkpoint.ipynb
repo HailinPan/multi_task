{
 "cells": [
  {
   "cell_type": "code",
   "execution_count": 1,
   "id": "09f86b20-aafa-4463-a781-b67ac1e8c61c",
   "metadata": {},
   "outputs": [],
   "source": [
    "%load_ext autoreload\n",
    "%autoreload 2\n",
    "import sys\n",
    "sys.path.insert(0, '/home/panhailin/software/source/git_hub/multi_task/')\n",
    "import multi_task as mt"
   ]
  },
  {
   "cell_type": "code",
   "execution_count": 2,
   "id": "85a507c8-7203-4219-b314-a727e23847e6",
   "metadata": {},
   "outputs": [],
   "source": [
    "mt.run_cmds(cmd_file='work.sh', task_num=2)"
   ]
  },
  {
   "cell_type": "code",
   "execution_count": null,
   "id": "74c6909e-5545-430f-8dc5-98c9fd3553af",
   "metadata": {},
   "outputs": [],
   "source": []
  }
 ],
 "metadata": {
  "kernelspec": {
   "display_name": "Python [conda env:gat]",
   "language": "python",
   "name": "conda-env-gat-py"
  },
  "language_info": {
   "codemirror_mode": {
    "name": "ipython",
    "version": 3
   },
   "file_extension": ".py",
   "mimetype": "text/x-python",
   "name": "python",
   "nbconvert_exporter": "python",
   "pygments_lexer": "ipython3",
   "version": "3.8.0"
  }
 },
 "nbformat": 4,
 "nbformat_minor": 5
}
