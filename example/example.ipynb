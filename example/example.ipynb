{
 "cells": [
  {
   "cell_type": "code",
   "execution_count": 111,
   "id": "09f86b20-aafa-4463-a781-b67ac1e8c61c",
   "metadata": {},
   "outputs": [
    {
     "name": "stdout",
     "output_type": "stream",
     "text": [
      "The autoreload extension is already loaded. To reload it, use:\n",
      "  %reload_ext autoreload\n"
     ]
    }
   ],
   "source": [
    "%load_ext autoreload\n",
    "%autoreload 2\n",
    "import sys\n",
    "sys.path.insert(0, '/home/panhailin/software/source/git_hub/multi_task/')\n",
    "import multi_task as mt\n",
    "import os"
   ]
  },
  {
   "cell_type": "code",
   "execution_count": 20,
   "id": "85a507c8-7203-4219-b314-a727e23847e6",
   "metadata": {},
   "outputs": [
    {
     "name": "stdout",
     "output_type": "stream",
     "text": [
      "\n",
      "Traceback (most recent call last):\n",
      "  File \"test.py\", line 12, in <module>\n",
      "    a = 1 + 't'\n",
      "TypeError: unsupported operand type(s) for +: 'int' and 'str'\n",
      "\n"
     ]
    },
    {
     "ename": "ValueError",
     "evalue": "Invalid file object: <_io.TextIOWrapper name=53 encoding='utf-8'>",
     "output_type": "error",
     "traceback": [
      "\u001b[0;31m---------------------------------------------------------------------------\u001b[0m",
      "\u001b[0;31mValueError\u001b[0m                                Traceback (most recent call last)",
      "Cell \u001b[0;32mIn[20], line 1\u001b[0m\n\u001b[0;32m----> 1\u001b[0m \u001b[43mmt\u001b[49m\u001b[38;5;241;43m.\u001b[39;49m\u001b[43mrun_cmds\u001b[49m\u001b[43m(\u001b[49m\u001b[43mcmd_file\u001b[49m\u001b[38;5;241;43m=\u001b[39;49m\u001b[38;5;124;43m'\u001b[39;49m\u001b[38;5;124;43m./work2.sh\u001b[39;49m\u001b[38;5;124;43m'\u001b[39;49m\u001b[43m,\u001b[49m\u001b[43m \u001b[49m\u001b[43mtime_sleep\u001b[49m\u001b[38;5;241;43m=\u001b[39;49m\u001b[38;5;241;43m2\u001b[39;49m\u001b[43m,\u001b[49m\u001b[43m \u001b[49m\u001b[43mtask_num\u001b[49m\u001b[38;5;241;43m=\u001b[39;49m\u001b[38;5;241;43m2\u001b[39;49m\u001b[43m,\u001b[49m\u001b[43m \u001b[49m\u001b[43mtry_time\u001b[49m\u001b[38;5;241;43m=\u001b[39;49m\u001b[38;5;241;43m1\u001b[39;49m\u001b[43m)\u001b[49m\n",
      "File \u001b[0;32m~/software/source/git_hub/multi_task/multi_task/run.py:131\u001b[0m, in \u001b[0;36mrun_cmds\u001b[0;34m(cmd_file, task_num, time_sleep, try_time)\u001b[0m\n\u001b[1;32m    124\u001b[0m \u001b[38;5;28;01mdef\u001b[39;00m \u001b[38;5;21mrun_cmds\u001b[39m(\n\u001b[1;32m    125\u001b[0m     cmd_file: \u001b[38;5;28mstr\u001b[39m,\n\u001b[1;32m    126\u001b[0m     task_num: \u001b[38;5;28mint\u001b[39m \u001b[38;5;241m=\u001b[39m \u001b[38;5;241m1\u001b[39m,\n\u001b[1;32m    127\u001b[0m     time_sleep: \u001b[38;5;28mint\u001b[39m \u001b[38;5;241m=\u001b[39m \u001b[38;5;241m30\u001b[39m,\n\u001b[1;32m    128\u001b[0m     try_time: \u001b[38;5;28mint\u001b[39m \u001b[38;5;241m=\u001b[39m \u001b[38;5;241m10\u001b[39m,\n\u001b[1;32m    129\u001b[0m ):\n\u001b[1;32m    130\u001b[0m     \u001b[38;5;28;01mfor\u001b[39;00m i \u001b[38;5;129;01min\u001b[39;00m \u001b[38;5;28mrange\u001b[39m(try_time):\n\u001b[0;32m--> 131\u001b[0m         \u001b[43m_run_cmds\u001b[49m\u001b[43m(\u001b[49m\u001b[43mcmd_file\u001b[49m\u001b[38;5;241;43m=\u001b[39;49m\u001b[43mcmd_file\u001b[49m\u001b[43m,\u001b[49m\u001b[43m \u001b[49m\u001b[43mtask_num\u001b[49m\u001b[38;5;241;43m=\u001b[39;49m\u001b[43mtask_num\u001b[49m\u001b[43m,\u001b[49m\u001b[43m \u001b[49m\u001b[43mtime_sleep\u001b[49m\u001b[38;5;241;43m=\u001b[39;49m\u001b[43mtime_sleep\u001b[49m\u001b[43m)\u001b[49m\n",
      "File \u001b[0;32m~/software/source/git_hub/multi_task/multi_task/run.py:108\u001b[0m, in \u001b[0;36m_run_cmds\u001b[0;34m(cmd_file, task_num, time_sleep)\u001b[0m\n\u001b[1;32m    106\u001b[0m cmd_line, index \u001b[38;5;241m=\u001b[39m one_row[\u001b[38;5;124m'\u001b[39m\u001b[38;5;124mcmd\u001b[39m\u001b[38;5;124m'\u001b[39m], one_row[\u001b[38;5;124m'\u001b[39m\u001b[38;5;124mindex\u001b[39m\u001b[38;5;124m'\u001b[39m]\n\u001b[1;32m    107\u001b[0m \u001b[38;5;28;01mwhile\u001b[39;00m \u001b[38;5;28;01mTrue\u001b[39;00m:\n\u001b[0;32m--> 108\u001b[0m     \u001b[38;5;28;01mif\u001b[39;00m \u001b[43mget_running_num\u001b[49m\u001b[43m(\u001b[49m\u001b[43mtask_dict\u001b[49m\u001b[38;5;241;43m=\u001b[39;49m\u001b[43mtask_dict\u001b[49m\u001b[43m)\u001b[49m \u001b[38;5;241m<\u001b[39m task_num:\n\u001b[1;32m    109\u001b[0m         proc \u001b[38;5;241m=\u001b[39m run_one_cmd(cmd\u001b[38;5;241m=\u001b[39mcmd_line\u001b[38;5;241m.\u001b[39msplit())\n\u001b[1;32m    110\u001b[0m         add_one_job_to_task_dict(task_dict\u001b[38;5;241m=\u001b[39mtask_dict, proc\u001b[38;5;241m=\u001b[39mproc, cmd_line\u001b[38;5;241m=\u001b[39mcmd_line, index\u001b[38;5;241m=\u001b[39mindex)\n",
      "File \u001b[0;32m~/software/source/git_hub/multi_task/multi_task/run.py:59\u001b[0m, in \u001b[0;36mget_running_num\u001b[0;34m(task_dict)\u001b[0m\n\u001b[1;32m     56\u001b[0m \u001b[38;5;28;01mdef\u001b[39;00m \u001b[38;5;21mget_running_num\u001b[39m(\n\u001b[1;32m     57\u001b[0m     task_dict: \u001b[38;5;28mdict\u001b[39m,\n\u001b[1;32m     58\u001b[0m ):\n\u001b[0;32m---> 59\u001b[0m     \u001b[43mupdate_task_dict\u001b[49m\u001b[43m(\u001b[49m\u001b[43mtask_dict\u001b[49m\u001b[38;5;241;43m=\u001b[39;49m\u001b[43mtask_dict\u001b[49m\u001b[43m)\u001b[49m\n\u001b[1;32m     60\u001b[0m     \u001b[38;5;28;01mif\u001b[39;00m \u001b[38;5;28mlen\u001b[39m(task_dict) \u001b[38;5;241m==\u001b[39m \u001b[38;5;241m0\u001b[39m:\n\u001b[1;32m     61\u001b[0m         \u001b[38;5;28;01mreturn\u001b[39;00m \u001b[38;5;241m0\u001b[39m\n",
      "File \u001b[0;32m~/software/source/git_hub/multi_task/multi_task/run.py:74\u001b[0m, in \u001b[0;36mupdate_task_dict\u001b[0;34m(task_dict)\u001b[0m\n\u001b[1;32m     72\u001b[0m \u001b[38;5;28;01mfor\u001b[39;00m proc, proc_obj \u001b[38;5;129;01min\u001b[39;00m task_dict\u001b[38;5;241m.\u001b[39mitems():\n\u001b[1;32m     73\u001b[0m     proc_obj[\u001b[38;5;124m'\u001b[39m\u001b[38;5;124mstate\u001b[39m\u001b[38;5;124m'\u001b[39m] \u001b[38;5;241m=\u001b[39m proc\u001b[38;5;241m.\u001b[39mpoll()\n\u001b[0;32m---> 74\u001b[0m     out, err \u001b[38;5;241m=\u001b[39m \u001b[43mproc\u001b[49m\u001b[38;5;241;43m.\u001b[39;49m\u001b[43mcommunicate\u001b[49m\u001b[43m(\u001b[49m\u001b[43m)\u001b[49m\n\u001b[1;32m     75\u001b[0m     \u001b[38;5;28mprint\u001b[39m(out)\n\u001b[1;32m     76\u001b[0m     \u001b[38;5;28mprint\u001b[39m(err)\n",
      "File \u001b[0;32m~/miniconda3/envs/gat/lib/python3.8/subprocess.py:1024\u001b[0m, in \u001b[0;36mPopen.communicate\u001b[0;34m(self, input, timeout)\u001b[0m\n\u001b[1;32m   1021\u001b[0m     endtime \u001b[38;5;241m=\u001b[39m \u001b[38;5;28;01mNone\u001b[39;00m\n\u001b[1;32m   1023\u001b[0m \u001b[38;5;28;01mtry\u001b[39;00m:\n\u001b[0;32m-> 1024\u001b[0m     stdout, stderr \u001b[38;5;241m=\u001b[39m \u001b[38;5;28;43mself\u001b[39;49m\u001b[38;5;241;43m.\u001b[39;49m\u001b[43m_communicate\u001b[49m\u001b[43m(\u001b[49m\u001b[38;5;28;43minput\u001b[39;49m\u001b[43m,\u001b[49m\u001b[43m \u001b[49m\u001b[43mendtime\u001b[49m\u001b[43m,\u001b[49m\u001b[43m \u001b[49m\u001b[43mtimeout\u001b[49m\u001b[43m)\u001b[49m\n\u001b[1;32m   1025\u001b[0m \u001b[38;5;28;01mexcept\u001b[39;00m \u001b[38;5;167;01mKeyboardInterrupt\u001b[39;00m:\n\u001b[1;32m   1026\u001b[0m     \u001b[38;5;66;03m# https://bugs.python.org/issue25942\u001b[39;00m\n\u001b[1;32m   1027\u001b[0m     \u001b[38;5;66;03m# See the detailed comment in .wait().\u001b[39;00m\n\u001b[1;32m   1028\u001b[0m     \u001b[38;5;28;01mif\u001b[39;00m timeout \u001b[38;5;129;01mis\u001b[39;00m \u001b[38;5;129;01mnot\u001b[39;00m \u001b[38;5;28;01mNone\u001b[39;00m:\n",
      "File \u001b[0;32m~/miniconda3/envs/gat/lib/python3.8/subprocess.py:1852\u001b[0m, in \u001b[0;36mPopen._communicate\u001b[0;34m(self, input, endtime, orig_timeout)\u001b[0m\n\u001b[1;32m   1850\u001b[0m     selector\u001b[38;5;241m.\u001b[39mregister(\u001b[38;5;28mself\u001b[39m\u001b[38;5;241m.\u001b[39mstdin, selectors\u001b[38;5;241m.\u001b[39mEVENT_WRITE)\n\u001b[1;32m   1851\u001b[0m \u001b[38;5;28;01mif\u001b[39;00m \u001b[38;5;28mself\u001b[39m\u001b[38;5;241m.\u001b[39mstdout:\n\u001b[0;32m-> 1852\u001b[0m     \u001b[43mselector\u001b[49m\u001b[38;5;241;43m.\u001b[39;49m\u001b[43mregister\u001b[49m\u001b[43m(\u001b[49m\u001b[38;5;28;43mself\u001b[39;49m\u001b[38;5;241;43m.\u001b[39;49m\u001b[43mstdout\u001b[49m\u001b[43m,\u001b[49m\u001b[43m \u001b[49m\u001b[43mselectors\u001b[49m\u001b[38;5;241;43m.\u001b[39;49m\u001b[43mEVENT_READ\u001b[49m\u001b[43m)\u001b[49m\n\u001b[1;32m   1853\u001b[0m \u001b[38;5;28;01mif\u001b[39;00m \u001b[38;5;28mself\u001b[39m\u001b[38;5;241m.\u001b[39mstderr:\n\u001b[1;32m   1854\u001b[0m     selector\u001b[38;5;241m.\u001b[39mregister(\u001b[38;5;28mself\u001b[39m\u001b[38;5;241m.\u001b[39mstderr, selectors\u001b[38;5;241m.\u001b[39mEVENT_READ)\n",
      "File \u001b[0;32m~/miniconda3/envs/gat/lib/python3.8/selectors.py:352\u001b[0m, in \u001b[0;36m_PollLikeSelector.register\u001b[0;34m(self, fileobj, events, data)\u001b[0m\n\u001b[1;32m    351\u001b[0m \u001b[38;5;28;01mdef\u001b[39;00m \u001b[38;5;21mregister\u001b[39m(\u001b[38;5;28mself\u001b[39m, fileobj, events, data\u001b[38;5;241m=\u001b[39m\u001b[38;5;28;01mNone\u001b[39;00m):\n\u001b[0;32m--> 352\u001b[0m     key \u001b[38;5;241m=\u001b[39m \u001b[38;5;28;43msuper\u001b[39;49m\u001b[43m(\u001b[49m\u001b[43m)\u001b[49m\u001b[38;5;241;43m.\u001b[39;49m\u001b[43mregister\u001b[49m\u001b[43m(\u001b[49m\u001b[43mfileobj\u001b[49m\u001b[43m,\u001b[49m\u001b[43m \u001b[49m\u001b[43mevents\u001b[49m\u001b[43m,\u001b[49m\u001b[43m \u001b[49m\u001b[43mdata\u001b[49m\u001b[43m)\u001b[49m\n\u001b[1;32m    353\u001b[0m     poller_events \u001b[38;5;241m=\u001b[39m \u001b[38;5;241m0\u001b[39m\n\u001b[1;32m    354\u001b[0m     \u001b[38;5;28;01mif\u001b[39;00m events \u001b[38;5;241m&\u001b[39m EVENT_READ:\n",
      "File \u001b[0;32m~/miniconda3/envs/gat/lib/python3.8/selectors.py:238\u001b[0m, in \u001b[0;36m_BaseSelectorImpl.register\u001b[0;34m(self, fileobj, events, data)\u001b[0m\n\u001b[1;32m    235\u001b[0m \u001b[38;5;28;01mif\u001b[39;00m (\u001b[38;5;129;01mnot\u001b[39;00m events) \u001b[38;5;129;01mor\u001b[39;00m (events \u001b[38;5;241m&\u001b[39m \u001b[38;5;241m~\u001b[39m(EVENT_READ \u001b[38;5;241m|\u001b[39m EVENT_WRITE)):\n\u001b[1;32m    236\u001b[0m     \u001b[38;5;28;01mraise\u001b[39;00m \u001b[38;5;167;01mValueError\u001b[39;00m(\u001b[38;5;124m\"\u001b[39m\u001b[38;5;124mInvalid events: \u001b[39m\u001b[38;5;132;01m{!r}\u001b[39;00m\u001b[38;5;124m\"\u001b[39m\u001b[38;5;241m.\u001b[39mformat(events))\n\u001b[0;32m--> 238\u001b[0m key \u001b[38;5;241m=\u001b[39m SelectorKey(fileobj, \u001b[38;5;28;43mself\u001b[39;49m\u001b[38;5;241;43m.\u001b[39;49m\u001b[43m_fileobj_lookup\u001b[49m\u001b[43m(\u001b[49m\u001b[43mfileobj\u001b[49m\u001b[43m)\u001b[49m, events, data)\n\u001b[1;32m    240\u001b[0m \u001b[38;5;28;01mif\u001b[39;00m key\u001b[38;5;241m.\u001b[39mfd \u001b[38;5;129;01min\u001b[39;00m \u001b[38;5;28mself\u001b[39m\u001b[38;5;241m.\u001b[39m_fd_to_key:\n\u001b[1;32m    241\u001b[0m     \u001b[38;5;28;01mraise\u001b[39;00m \u001b[38;5;167;01mKeyError\u001b[39;00m(\u001b[38;5;124m\"\u001b[39m\u001b[38;5;132;01m{!r}\u001b[39;00m\u001b[38;5;124m (FD \u001b[39m\u001b[38;5;132;01m{}\u001b[39;00m\u001b[38;5;124m) is already registered\u001b[39m\u001b[38;5;124m\"\u001b[39m\n\u001b[1;32m    242\u001b[0m                    \u001b[38;5;241m.\u001b[39mformat(fileobj, key\u001b[38;5;241m.\u001b[39mfd))\n",
      "File \u001b[0;32m~/miniconda3/envs/gat/lib/python3.8/selectors.py:225\u001b[0m, in \u001b[0;36m_BaseSelectorImpl._fileobj_lookup\u001b[0;34m(self, fileobj)\u001b[0m\n\u001b[1;32m    216\u001b[0m \u001b[38;5;250m\u001b[39m\u001b[38;5;124;03m\"\"\"Return a file descriptor from a file object.\u001b[39;00m\n\u001b[1;32m    217\u001b[0m \n\u001b[1;32m    218\u001b[0m \u001b[38;5;124;03mThis wraps _fileobj_to_fd() to do an exhaustive search in case\u001b[39;00m\n\u001b[0;32m   (...)\u001b[0m\n\u001b[1;32m    222\u001b[0m \u001b[38;5;124;03mused by _SelectorMapping.\u001b[39;00m\n\u001b[1;32m    223\u001b[0m \u001b[38;5;124;03m\"\"\"\u001b[39;00m\n\u001b[1;32m    224\u001b[0m \u001b[38;5;28;01mtry\u001b[39;00m:\n\u001b[0;32m--> 225\u001b[0m     \u001b[38;5;28;01mreturn\u001b[39;00m \u001b[43m_fileobj_to_fd\u001b[49m\u001b[43m(\u001b[49m\u001b[43mfileobj\u001b[49m\u001b[43m)\u001b[49m\n\u001b[1;32m    226\u001b[0m \u001b[38;5;28;01mexcept\u001b[39;00m \u001b[38;5;167;01mValueError\u001b[39;00m:\n\u001b[1;32m    227\u001b[0m     \u001b[38;5;66;03m# Do an exhaustive search.\u001b[39;00m\n\u001b[1;32m    228\u001b[0m     \u001b[38;5;28;01mfor\u001b[39;00m key \u001b[38;5;129;01min\u001b[39;00m \u001b[38;5;28mself\u001b[39m\u001b[38;5;241m.\u001b[39m_fd_to_key\u001b[38;5;241m.\u001b[39mvalues():\n",
      "File \u001b[0;32m~/miniconda3/envs/gat/lib/python3.8/selectors.py:39\u001b[0m, in \u001b[0;36m_fileobj_to_fd\u001b[0;34m(fileobj)\u001b[0m\n\u001b[1;32m     37\u001b[0m         fd \u001b[38;5;241m=\u001b[39m \u001b[38;5;28mint\u001b[39m(fileobj\u001b[38;5;241m.\u001b[39mfileno())\n\u001b[1;32m     38\u001b[0m     \u001b[38;5;28;01mexcept\u001b[39;00m (\u001b[38;5;167;01mAttributeError\u001b[39;00m, \u001b[38;5;167;01mTypeError\u001b[39;00m, \u001b[38;5;167;01mValueError\u001b[39;00m):\n\u001b[0;32m---> 39\u001b[0m         \u001b[38;5;28;01mraise\u001b[39;00m \u001b[38;5;167;01mValueError\u001b[39;00m(\u001b[38;5;124m\"\u001b[39m\u001b[38;5;124mInvalid file object: \u001b[39m\u001b[38;5;124m\"\u001b[39m\n\u001b[1;32m     40\u001b[0m                          \u001b[38;5;124m\"\u001b[39m\u001b[38;5;132;01m{!r}\u001b[39;00m\u001b[38;5;124m\"\u001b[39m\u001b[38;5;241m.\u001b[39mformat(fileobj)) \u001b[38;5;28;01mfrom\u001b[39;00m \u001b[38;5;28;01mNone\u001b[39;00m\n\u001b[1;32m     41\u001b[0m \u001b[38;5;28;01mif\u001b[39;00m fd \u001b[38;5;241m<\u001b[39m \u001b[38;5;241m0\u001b[39m:\n\u001b[1;32m     42\u001b[0m     \u001b[38;5;28;01mraise\u001b[39;00m \u001b[38;5;167;01mValueError\u001b[39;00m(\u001b[38;5;124m\"\u001b[39m\u001b[38;5;124mInvalid file descriptor: \u001b[39m\u001b[38;5;132;01m{}\u001b[39;00m\u001b[38;5;124m\"\u001b[39m\u001b[38;5;241m.\u001b[39mformat(fd))\n",
      "\u001b[0;31mValueError\u001b[0m: Invalid file object: <_io.TextIOWrapper name=53 encoding='utf-8'>"
     ]
    }
   ],
   "source": [
    "mt.run_cmds(cmd_file='./work2.sh', time_sleep=2, task_num=2, try_time=1)"
   ]
  },
  {
   "cell_type": "code",
   "execution_count": 103,
   "id": "144174a3-b994-4675-b4d1-d7fffe7ae0af",
   "metadata": {},
   "outputs": [
    {
     "name": "stdout",
     "output_type": "stream",
     "text": [
      "None\n"
     ]
    }
   ],
   "source": [
    "import subprocess\n",
    "proc = subprocess.Popen(args=['python', 'test.py', '3'], encoding='utf-8', stdout=subprocess.PIPE, stderr=subprocess.PIPE)\n",
    "print(proc.returncode)"
   ]
  },
  {
   "cell_type": "code",
   "execution_count": 108,
   "id": "a1f36895-372e-488f-9adb-3b549aa34fb4",
   "metadata": {},
   "outputs": [],
   "source": [
    "out, err = proc.communicate()"
   ]
  },
  {
   "cell_type": "code",
   "execution_count": 109,
   "id": "edc5a505-a80b-4258-9fd9-7e00fd3efc2f",
   "metadata": {},
   "outputs": [
    {
     "data": {
      "text/plain": [
       "'ok\\n'"
      ]
     },
     "execution_count": 109,
     "metadata": {},
     "output_type": "execute_result"
    }
   ],
   "source": [
    "out"
   ]
  },
  {
   "cell_type": "code",
   "execution_count": 110,
   "id": "37369a10-ff35-4723-bb61-708a2e27ebb0",
   "metadata": {},
   "outputs": [
    {
     "data": {
      "text/plain": [
       "''"
      ]
     },
     "execution_count": 110,
     "metadata": {},
     "output_type": "execute_result"
    }
   ],
   "source": [
    "err"
   ]
  },
  {
   "cell_type": "code",
   "execution_count": 100,
   "id": "be23eb1c-dcbd-430c-b0d8-4ddb959cb570",
   "metadata": {},
   "outputs": [
    {
     "name": "stdout",
     "output_type": "stream",
     "text": [
      "None\n"
     ]
    }
   ],
   "source": [
    "print(proc.returncode)"
   ]
  },
  {
   "cell_type": "code",
   "execution_count": 107,
   "id": "ee28b092-0387-493f-9906-151d392370e0",
   "metadata": {},
   "outputs": [
    {
     "data": {
      "text/plain": [
       "0"
      ]
     },
     "execution_count": 107,
     "metadata": {},
     "output_type": "execute_result"
    }
   ],
   "source": [
    "proc.poll()"
   ]
  },
  {
   "cell_type": "code",
   "execution_count": 153,
   "id": "3f51fbbf-587f-482b-b98f-f1d3695a6a98",
   "metadata": {},
   "outputs": [],
   "source": [
    "def add(args):\n",
    "    # print(*args)\n",
    "    # cmd = \" \".join(*args)\n",
    "    cmd = args\n",
    "    print(cmd)\n",
    "    os.system(cmd)\n",
    "\n",
    "def t(a):\n",
    "    print(a)"
   ]
  },
  {
   "cell_type": "code",
   "execution_count": 131,
   "id": "ead7a7e9-da89-4107-ac12-fff1b5c1047c",
   "metadata": {},
   "outputs": [
    {
     "name": "stdout",
     "output_type": "stream",
     "text": [
      "['python', 'test.py', '4', '>', '4.log', '2>&1']\n"
     ]
    }
   ],
   "source": [
    "add(['python', 'test.py', '4', '>', '4.log', '2>&1'])"
   ]
  },
  {
   "cell_type": "code",
   "execution_count": 141,
   "id": "bb590720-4514-4d22-922c-ac7b4c0f1ed2",
   "metadata": {},
   "outputs": [],
   "source": [
    "add('python test.py 4 > 4.log 2>&1')"
   ]
  },
  {
   "cell_type": "code",
   "execution_count": 144,
   "id": "2645107c-71d5-431a-9ac5-1559bae6a67e",
   "metadata": {},
   "outputs": [],
   "source": [
    "from multiprocessing import Pool"
   ]
  },
  {
   "cell_type": "code",
   "execution_count": 151,
   "id": "580bbff1-51b4-4dc2-a34f-c7ce9ceffda1",
   "metadata": {},
   "outputs": [
    {
     "name": "stdout",
     "output_type": "stream",
     "text": [
      "123\n",
      "\n",
      "\n"
     ]
    }
   ],
   "source": [
    "data = [(1,),(2,), (3,)]\n",
    "with Pool(5) as p:\n",
    "    p.starmap(t, data)"
   ]
  },
  {
   "cell_type": "code",
   "execution_count": 156,
   "id": "577ad86b-d465-4cc7-aabc-3a38a56d8efc",
   "metadata": {},
   "outputs": [
    {
     "name": "stdout",
     "output_type": "stream",
     "text": [
      "python test.py 4 > 4.log 2>&1\n",
      "python test.py 5 > 5.log 2>&1\n",
      "python test.py 6 > 6.log 2>&1\n"
     ]
    }
   ],
   "source": [
    "data = [('python test.py 4 > 4.log 2>&1',), ('python test.py 5 > 5.log 2>&1',), ('python test.py 6 > 6.log 2>&1',)]\n",
    "with Pool(2) as p:\n",
    "    p.starmap(add, data)"
   ]
  },
  {
   "cell_type": "code",
   "execution_count": null,
   "id": "8317968b-3715-4d10-8cfa-f35861c0ce32",
   "metadata": {},
   "outputs": [],
   "source": []
  }
 ],
 "metadata": {
  "kernelspec": {
   "display_name": "Python [conda env:gat]",
   "language": "python",
   "name": "conda-env-gat-py"
  },
  "language_info": {
   "codemirror_mode": {
    "name": "ipython",
    "version": 3
   },
   "file_extension": ".py",
   "mimetype": "text/x-python",
   "name": "python",
   "nbconvert_exporter": "python",
   "pygments_lexer": "ipython3",
   "version": "3.8.0"
  }
 },
 "nbformat": 4,
 "nbformat_minor": 5
}
